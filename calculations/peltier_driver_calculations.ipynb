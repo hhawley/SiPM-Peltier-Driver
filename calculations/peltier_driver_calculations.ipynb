{
 "cells": [
  {
   "cell_type": "code",
   "execution_count": 1,
   "id": "df7bd1f5-3668-4ff4-8300-dabc898d4f9f",
   "metadata": {},
   "outputs": [],
   "source": [
    "using Roots # For solving set of equations\n",
    "using Plots\n",
    "using Measurements"
   ]
  },
  {
   "cell_type": "code",
   "execution_count": 96,
   "id": "ed823bee-4932-434a-94f8-03a7d9319261",
   "metadata": {},
   "outputs": [],
   "source": [
    "Vref = 1.24; # It is the internal Vref of the chip\n",
    "η = 0.95; # 95 efficiency\n",
    "Coff = 470e-12; # F\n",
    "Fsw = 150e3; # Hz, no reason in particular for 500kHz\n",
    "Vin = 12; # V\n",
    "Vo = 3.3; # This is a small little hack I call, doing whatever I want\n",
    "Co = 132e-6; # F, I think this is a good value but can be changed\n",
    "MaxCurrent = 6; # Amps\n",
    "MaxRipple = 0.0015; # Amps"
   ]
  },
  {
   "cell_type": "code",
   "execution_count": 97,
   "id": "e731de16-0061-4ae7-acf5-8e96751e57e7",
   "metadata": {},
   "outputs": [
    {
     "data": {
      "text/plain": [
       "20515.039262376886"
      ]
     },
     "execution_count": 97,
     "metadata": {},
     "output_type": "execute_result"
    }
   ],
   "source": [
    "RoffEstmated = -(1 - (Vo / (η*Vin)))/((Coff+20e-12)*Fsw*log(1-Vref/Vo))"
   ]
  },
  {
   "cell_type": "code",
   "execution_count": 98,
   "id": "964e63ad-16fe-444e-808a-ecf5846e520c",
   "metadata": {},
   "outputs": [
    {
     "data": {
      "text/plain": [
       "123584.57386974027"
      ]
     },
     "execution_count": 98,
     "metadata": {},
     "output_type": "execute_result"
    }
   ],
   "source": [
    "Roff = 24.9e3; # Closest to 1% metal film values\n",
    "tOff = -(Coff + 20e-12)*Roff*log(1-Vref/Vo);\n",
    "FswActual = (1-(Vo/(η*Vin)))/tOff #Uncomment me for the actual fsw\n",
    "\n",
    "#FswActual = 100e3 # this is for testing what would happen to the inductors and capacitors with a lower fsw"
   ]
  },
  {
   "cell_type": "code",
   "execution_count": 99,
   "id": "bba4f253-639c-4a3f-8803-3bc6a8b93cd0",
   "metadata": {
    "tags": []
   },
   "outputs": [
    {
     "data": {
      "text/plain": [
       "0.5066666666666667"
      ]
     },
     "execution_count": 99,
     "metadata": {},
     "output_type": "execute_result"
    }
   ],
   "source": [
    "# Peltier resistance approximation at max current, it is not a replacement for \n",
    "# the peltier in simulations\n",
    "V1, V2 = 3.213, 3.821;\n",
    "I1, I2 = 4.8, 6;\n",
    "rTec = (V2 - V1) / (I2 - I1)\n"
   ]
  },
  {
   "cell_type": "code",
   "execution_count": 100,
   "id": "fba0ca22-ac08-4fe3-928d-81c8725cc2e5",
   "metadata": {},
   "outputs": [],
   "source": [
    "CurrentRipple(L, Vref) = -(Vo*Roff*(Coff+20e-12)*log(1-Vref/Vo))/L;\n",
    "CapacitorCorrectedRipple(L, Vref) = CurrentRipple(L, Vref) / (1 + (rTec*2*π*FswActual*Co));\n",
    "Iout(L, Rsns, Vref) = (Vref/(5*Rsns)) - 0.5*CapacitorCorrectedRipple(L, Vref);"
   ]
  },
  {
   "cell_type": "code",
   "execution_count": 101,
   "id": "c9e57b33-43f1-44f6-9518-c66aa3b990db",
   "metadata": {},
   "outputs": [
    {
     "data": {
      "text/plain": [
       "0.0002389544002881881"
      ]
     },
     "execution_count": 101,
     "metadata": {},
     "output_type": "execute_result"
    }
   ],
   "source": [
    "# Calculates appropiate Inductor\n",
    "LCalculated = find_zero(L -> CapacitorCorrectedRipple(L, Vref) - MaxRipple, 10e-6) "
   ]
  },
  {
   "cell_type": "code",
   "execution_count": 94,
   "id": "27b92978-8028-4de7-afc2-273a2985d76b",
   "metadata": {},
   "outputs": [
    {
     "data": {
      "text/plain": [
       "0.04132816731241928"
      ]
     },
     "execution_count": 94,
     "metadata": {},
     "output_type": "execute_result"
    }
   ],
   "source": [
    "# Then calculate Rsns (find it between 0 and 1 ohms)\n",
    "RsnsCalculated = find_zero(Rsns -> Iout(LCalculated, Rsns, Vref) - MaxCurrent, (0.0, 1))"
   ]
  },
  {
   "cell_type": "code",
   "execution_count": 102,
   "id": "425f83df-ef0c-464f-a019-684d7bf55637",
   "metadata": {},
   "outputs": [
    {
     "data": {
      "text/plain": [
       "(6.199 ± 0.074, 0.00239 ± 0.00048)"
      ]
     },
     "execution_count": 102,
     "metadata": {},
     "output_type": "execute_result"
    }
   ],
   "source": [
    "RsnsActual = 0.04;\n",
    "RsnsWError = RsnsActual ± 1.2*RsnsActual/100\n",
    "LActual = 150e-6;\n",
    "LWError = LActual ± LActual*20/100;\n",
    "\n",
    "# Actual current and ripple with realistic values\n",
    "IoutActual, IrippleActual = Iout(LActual, RsnsActual, Vref), CapacitorCorrectedRipple(LActual, Vref)\n",
    "IoutwError, IripplewError = Iout(LWError, RsnsWError, Vref), CapacitorCorrectedRipple(LWError, Vref)"
   ]
  },
  {
   "cell_type": "code",
   "execution_count": 22,
   "id": "e26ffaf2-181c-4714-8028-a86bb12ccd3d",
   "metadata": {},
   "outputs": [
    {
     "data": {
      "text/plain": [
       "1.2239535866741936e-8"
      ]
     },
     "execution_count": 22,
     "metadata": {},
     "output_type": "execute_result"
    }
   ],
   "source": [
    "tOnActual = 1/FswActual - tOff;\n",
    "Cin = IrippleActual*tOnActual / (0.05*Vin)\n",
    "\n",
    "#Cin is nanofarad range, so we will stick with 1uF"
   ]
  },
  {
   "cell_type": "code",
   "execution_count": 23,
   "id": "d9b92e50-3554-40e1-ab33-acd749942c5f",
   "metadata": {},
   "outputs": [
    {
     "name": "stdout",
     "output_type": "stream",
     "text": [
      "(Ru2, Ru1) = (45454.545454545456, 24939.662107803706)\n"
     ]
    },
    {
     "data": {
      "text/plain": [
       "(45454.545454545456, 24939.662107803706)"
      ]
     },
     "execution_count": 23,
     "metadata": {},
     "output_type": "execute_result"
    }
   ],
   "source": [
    "Vhys = 1\n",
    "Von = 3.5 # If it drops below this, it wont work as a buck converter anymore\n",
    "Ru2 = Vhys / 22e-6\n",
    "Ru1 = 1.24*Ru2 / (Von - 1.24)\n",
    "\n",
    "@show Ru2, Ru1"
   ]
  },
  {
   "cell_type": "code",
   "execution_count": 24,
   "id": "c5bac1ac-3f98-405f-8141-7b88b42317e1",
   "metadata": {},
   "outputs": [
    {
     "name": "stdout",
     "output_type": "stream",
     "text": [
      "The MOSFET will dissipate 0.21891970397135352 W of power!"
     ]
    }
   ],
   "source": [
    "RdsON = 17e-3;\n",
    "\n",
    "D = V2/(Vin*η)\n",
    "It = D*IoutActual # Minimum current rating of the mosfet\n",
    "\n",
    "ItRMS = IoutActual*√(D*(1+(1/12)*(IrippleActual/IoutActual)^2))\n",
    "Pt = RdsON*ItRMS^2 \n",
    "\n",
    "print(\"The MOSFET will dissipate $Pt W of power!\")\n"
   ]
  },
  {
   "cell_type": "code",
   "execution_count": 25,
   "id": "6ed47887-2c3c-4e5c-9e4e-ff8750131578",
   "metadata": {},
   "outputs": [
    {
     "name": "stdout",
     "output_type": "stream",
     "text": [
      "The diode will dissipate 1.5659306330678677 which induces a temperature rise of 25.543915646911284"
     ]
    }
   ],
   "source": [
    "# Diode dissipation calculations\n",
    "Vf = 0.38 # Diode forward voltage @ 7A\n",
    "Pdis = 40 # K / W\n",
    "ID = (1-D)*IoutActual\n",
    "PD = ID*Vf\n",
    "\n",
    "TDrise = Pdis / PD\n",
    "\n",
    "print(\"The diode will dissipate $PD which induces a temperature rise of $TDrise\")"
   ]
  },
  {
   "cell_type": "code",
   "execution_count": 16,
   "id": "f9406175-bb1f-4ca0-854e-e421e816ed92",
   "metadata": {},
   "outputs": [
    {
     "data": {
      "text/plain": [
       "167.00413755707802"
      ]
     },
     "execution_count": 16,
     "metadata": {},
     "output_type": "execute_result"
    }
   ],
   "source": [
    "1/(2*π*9.53e3*100e-9)"
   ]
  },
  {
   "cell_type": "markdown",
   "id": "12372f98-3266-4e1d-bf0d-73dbd98e8e1b",
   "metadata": {},
   "source": [
    "25e3*10e-6"
   ]
  },
  {
   "cell_type": "code",
   "execution_count": 2,
   "id": "9f9f53b1-b017-4821-9007-1001af353936",
   "metadata": {},
   "outputs": [
    {
     "data": {
      "text/plain": [
       "999.9999999999964"
      ]
     },
     "execution_count": 2,
     "metadata": {},
     "output_type": "execute_result"
    }
   ],
   "source": [
    "(3.3-3.2) / 100e-6"
   ]
  },
  {
   "cell_type": "code",
   "execution_count": 6,
   "id": "b683d7e6-93fb-4c7c-a38f-7dd8a2350cdf",
   "metadata": {},
   "outputs": [
    {
     "data": {
      "text/plain": [
       "44000.0"
      ]
     },
     "execution_count": 6,
     "metadata": {},
     "output_type": "execute_result"
    }
   ],
   "source": [
    "(12-3.2) / 0.2e-3"
   ]
  },
  {
   "cell_type": "code",
   "execution_count": 2,
   "id": "5db43de0-cff8-4d0a-8b92-53e4c45a66eb",
   "metadata": {},
   "outputs": [
    {
     "data": {
      "image/svg+xml": [
       "<?xml version=\"1.0\" encoding=\"utf-8\"?>\n",
       "<svg xmlns=\"http://www.w3.org/2000/svg\" xmlns:xlink=\"http://www.w3.org/1999/xlink\" width=\"600\" height=\"400\" viewBox=\"0 0 2400 1600\">\n",
       "<defs>\n",
       "  <clipPath id=\"clip440\">\n",
       "    <rect x=\"0\" y=\"0\" width=\"2400\" height=\"1600\"/>\n",
       "  </clipPath>\n",
       "</defs>\n",
       "<path clip-path=\"url(#clip440)\" d=\"\n",
       "M0 1600 L2400 1600 L2400 0 L0 0  Z\n",
       "  \" fill=\"#ffffff\" fill-rule=\"evenodd\" fill-opacity=\"1\"/>\n",
       "<defs>\n",
       "  <clipPath id=\"clip441\">\n",
       "    <rect x=\"480\" y=\"0\" width=\"1681\" height=\"1600\"/>\n",
       "  </clipPath>\n",
       "</defs>\n",
       "<path clip-path=\"url(#clip440)\" d=\"\n",
       "M112.177 1486.45 L2352.76 1486.45 L2352.76 47.2441 L112.177 47.2441  Z\n",
       "  \" fill=\"#ffffff\" fill-rule=\"evenodd\" fill-opacity=\"1\"/>\n",
       "<defs>\n",
       "  <clipPath id=\"clip442\">\n",
       "    <rect x=\"112\" y=\"47\" width=\"2242\" height=\"1440\"/>\n",
       "  </clipPath>\n",
       "</defs>\n",
       "<polyline clip-path=\"url(#clip442)\" style=\"stroke:#000000; stroke-width:2; stroke-opacity:0.1; fill:none\" points=\"\n",
       "  175.59,1486.45 175.59,47.2441 \n",
       "  \"/>\n",
       "<polyline clip-path=\"url(#clip442)\" style=\"stroke:#000000; stroke-width:2; stroke-opacity:0.1; fill:none\" points=\"\n",
       "  751.544,1486.45 751.544,47.2441 \n",
       "  \"/>\n",
       "<polyline clip-path=\"url(#clip442)\" style=\"stroke:#000000; stroke-width:2; stroke-opacity:0.1; fill:none\" points=\"\n",
       "  1327.5,1486.45 1327.5,47.2441 \n",
       "  \"/>\n",
       "<polyline clip-path=\"url(#clip442)\" style=\"stroke:#000000; stroke-width:2; stroke-opacity:0.1; fill:none\" points=\"\n",
       "  1903.45,1486.45 1903.45,47.2441 \n",
       "  \"/>\n",
       "<polyline clip-path=\"url(#clip440)\" style=\"stroke:#000000; stroke-width:4; stroke-opacity:1; fill:none\" points=\"\n",
       "  112.177,1486.45 2352.76,1486.45 \n",
       "  \"/>\n",
       "<polyline clip-path=\"url(#clip440)\" style=\"stroke:#000000; stroke-width:4; stroke-opacity:1; fill:none\" points=\"\n",
       "  175.59,1486.45 175.59,1469.18 \n",
       "  \"/>\n",
       "<polyline clip-path=\"url(#clip440)\" style=\"stroke:#000000; stroke-width:4; stroke-opacity:1; fill:none\" points=\"\n",
       "  751.544,1486.45 751.544,1469.18 \n",
       "  \"/>\n",
       "<polyline clip-path=\"url(#clip440)\" style=\"stroke:#000000; stroke-width:4; stroke-opacity:1; fill:none\" points=\"\n",
       "  1327.5,1486.45 1327.5,1469.18 \n",
       "  \"/>\n",
       "<polyline clip-path=\"url(#clip440)\" style=\"stroke:#000000; stroke-width:4; stroke-opacity:1; fill:none\" points=\"\n",
       "  1903.45,1486.45 1903.45,1469.18 \n",
       "  \"/>\n",
       "<path clip-path=\"url(#clip440)\" d=\"M 0 0 M175.59 1515.64 Q171.979 1515.64 170.15 1519.2 Q168.344 1522.75 168.344 1529.87 Q168.344 1536.98 170.15 1540.55 Q171.979 1544.09 175.59 1544.09 Q179.224 1544.09 181.03 1540.55 Q182.858 1536.98 182.858 1529.87 Q182.858 1522.75 181.03 1519.2 Q179.224 1515.64 175.59 1515.64 M175.59 1511.93 Q181.4 1511.93 184.455 1516.54 Q187.534 1521.12 187.534 1529.87 Q187.534 1538.6 184.455 1543.21 Q181.4 1547.79 175.59 1547.79 Q169.78 1547.79 166.701 1543.21 Q163.645 1538.6 163.645 1529.87 Q163.645 1521.12 166.701 1516.54 Q169.78 1511.93 175.59 1511.93 Z\" fill=\"#000000\" fill-rule=\"evenodd\" fill-opacity=\"1\" /><path clip-path=\"url(#clip440)\" d=\"M 0 0 M741.926 1543.18 L749.565 1543.18 L749.565 1516.82 L741.255 1518.49 L741.255 1514.23 L749.519 1512.56 L754.195 1512.56 L754.195 1543.18 L761.834 1543.18 L761.834 1547.12 L741.926 1547.12 L741.926 1543.18 Z\" fill=\"#000000\" fill-rule=\"evenodd\" fill-opacity=\"1\" /><path clip-path=\"url(#clip440)\" d=\"M 0 0 M1322.15 1543.18 L1338.47 1543.18 L1338.47 1547.12 L1316.53 1547.12 L1316.53 1543.18 Q1319.19 1540.43 1323.77 1535.8 Q1328.38 1531.15 1329.56 1529.81 Q1331.8 1527.28 1332.68 1525.55 Q1333.59 1523.79 1333.59 1522.1 Q1333.59 1519.34 1331.64 1517.61 Q1329.72 1515.87 1326.62 1515.87 Q1324.42 1515.87 1321.97 1516.63 Q1319.54 1517.4 1316.76 1518.95 L1316.76 1514.23 Q1319.58 1513.09 1322.04 1512.51 Q1324.49 1511.93 1326.53 1511.93 Q1331.9 1511.93 1335.09 1514.62 Q1338.29 1517.31 1338.29 1521.8 Q1338.29 1523.93 1337.48 1525.85 Q1336.69 1527.74 1334.58 1530.34 Q1334 1531.01 1330.9 1534.23 Q1327.8 1537.42 1322.15 1543.18 Z\" fill=\"#000000\" fill-rule=\"evenodd\" fill-opacity=\"1\" /><path clip-path=\"url(#clip440)\" d=\"M 0 0 M1907.7 1528.49 Q1911.06 1529.2 1912.93 1531.47 Q1914.83 1533.74 1914.83 1537.07 Q1914.83 1542.19 1911.31 1544.99 Q1907.79 1547.79 1901.31 1547.79 Q1899.14 1547.79 1896.82 1547.35 Q1894.53 1546.93 1892.08 1546.08 L1892.08 1541.56 Q1894.02 1542.7 1896.34 1543.28 Q1898.65 1543.86 1901.17 1543.86 Q1905.57 1543.86 1907.86 1542.12 Q1910.18 1540.38 1910.18 1537.07 Q1910.18 1534.02 1908.03 1532.31 Q1905.9 1530.57 1902.08 1530.57 L1898.05 1530.57 L1898.05 1526.73 L1902.26 1526.73 Q1905.71 1526.73 1907.54 1525.36 Q1909.37 1523.97 1909.37 1521.38 Q1909.37 1518.72 1907.47 1517.31 Q1905.59 1515.87 1902.08 1515.87 Q1900.16 1515.87 1897.96 1516.29 Q1895.76 1516.7 1893.12 1517.58 L1893.12 1513.42 Q1895.78 1512.68 1898.09 1512.31 Q1900.43 1511.93 1902.49 1511.93 Q1907.82 1511.93 1910.92 1514.37 Q1914.02 1516.77 1914.02 1520.89 Q1914.02 1523.76 1912.38 1525.75 Q1910.73 1527.72 1907.7 1528.49 Z\" fill=\"#000000\" fill-rule=\"evenodd\" fill-opacity=\"1\" /><polyline clip-path=\"url(#clip442)\" style=\"stroke:#000000; stroke-width:2; stroke-opacity:0.1; fill:none\" points=\"\n",
       "  112.177,1445.72 2352.76,1445.72 \n",
       "  \"/>\n",
       "<polyline clip-path=\"url(#clip442)\" style=\"stroke:#000000; stroke-width:2; stroke-opacity:0.1; fill:none\" points=\"\n",
       "  112.177,1219.43 2352.76,1219.43 \n",
       "  \"/>\n",
       "<polyline clip-path=\"url(#clip442)\" style=\"stroke:#000000; stroke-width:2; stroke-opacity:0.1; fill:none\" points=\"\n",
       "  112.177,993.136 2352.76,993.136 \n",
       "  \"/>\n",
       "<polyline clip-path=\"url(#clip442)\" style=\"stroke:#000000; stroke-width:2; stroke-opacity:0.1; fill:none\" points=\"\n",
       "  112.177,766.846 2352.76,766.846 \n",
       "  \"/>\n",
       "<polyline clip-path=\"url(#clip442)\" style=\"stroke:#000000; stroke-width:2; stroke-opacity:0.1; fill:none\" points=\"\n",
       "  112.177,540.556 2352.76,540.556 \n",
       "  \"/>\n",
       "<polyline clip-path=\"url(#clip442)\" style=\"stroke:#000000; stroke-width:2; stroke-opacity:0.1; fill:none\" points=\"\n",
       "  112.177,314.266 2352.76,314.266 \n",
       "  \"/>\n",
       "<polyline clip-path=\"url(#clip442)\" style=\"stroke:#000000; stroke-width:2; stroke-opacity:0.1; fill:none\" points=\"\n",
       "  112.177,87.9763 2352.76,87.9763 \n",
       "  \"/>\n",
       "<polyline clip-path=\"url(#clip440)\" style=\"stroke:#000000; stroke-width:4; stroke-opacity:1; fill:none\" points=\"\n",
       "  112.177,1486.45 112.177,47.2441 \n",
       "  \"/>\n",
       "<polyline clip-path=\"url(#clip440)\" style=\"stroke:#000000; stroke-width:4; stroke-opacity:1; fill:none\" points=\"\n",
       "  112.177,1445.72 139.064,1445.72 \n",
       "  \"/>\n",
       "<polyline clip-path=\"url(#clip440)\" style=\"stroke:#000000; stroke-width:4; stroke-opacity:1; fill:none\" points=\"\n",
       "  112.177,1219.43 139.064,1219.43 \n",
       "  \"/>\n",
       "<polyline clip-path=\"url(#clip440)\" style=\"stroke:#000000; stroke-width:4; stroke-opacity:1; fill:none\" points=\"\n",
       "  112.177,993.136 139.064,993.136 \n",
       "  \"/>\n",
       "<polyline clip-path=\"url(#clip440)\" style=\"stroke:#000000; stroke-width:4; stroke-opacity:1; fill:none\" points=\"\n",
       "  112.177,766.846 139.064,766.846 \n",
       "  \"/>\n",
       "<polyline clip-path=\"url(#clip440)\" style=\"stroke:#000000; stroke-width:4; stroke-opacity:1; fill:none\" points=\"\n",
       "  112.177,540.556 139.064,540.556 \n",
       "  \"/>\n",
       "<polyline clip-path=\"url(#clip440)\" style=\"stroke:#000000; stroke-width:4; stroke-opacity:1; fill:none\" points=\"\n",
       "  112.177,314.266 139.064,314.266 \n",
       "  \"/>\n",
       "<polyline clip-path=\"url(#clip440)\" style=\"stroke:#000000; stroke-width:4; stroke-opacity:1; fill:none\" points=\"\n",
       "  112.177,87.9763 139.064,87.9763 \n",
       "  \"/>\n",
       "<path clip-path=\"url(#clip440)\" d=\"M 0 0 M64.2328 1431.51 Q60.6217 1431.51 58.793 1435.08 Q56.9875 1438.62 56.9875 1445.75 Q56.9875 1452.86 58.793 1456.42 Q60.6217 1459.96 64.2328 1459.96 Q67.867 1459.96 69.6726 1456.42 Q71.5013 1452.86 71.5013 1445.75 Q71.5013 1438.62 69.6726 1435.08 Q67.867 1431.51 64.2328 1431.51 M64.2328 1427.81 Q70.0429 1427.81 73.0985 1432.42 Q76.1772 1437 76.1772 1445.75 Q76.1772 1454.48 73.0985 1459.08 Q70.0429 1463.67 64.2328 1463.67 Q58.4226 1463.67 55.344 1459.08 Q52.2884 1454.48 52.2884 1445.75 Q52.2884 1437 55.344 1432.42 Q58.4226 1427.81 64.2328 1427.81 Z\" fill=\"#000000\" fill-rule=\"evenodd\" fill-opacity=\"1\" /><path clip-path=\"url(#clip440)\" d=\"M 0 0 M56.2699 1232.77 L63.9087 1232.77 L63.9087 1206.41 L55.5986 1208.07 L55.5986 1203.81 L63.8624 1202.15 L68.5383 1202.15 L68.5383 1232.77 L76.1772 1232.77 L76.1772 1236.71 L56.2699 1236.71 L56.2699 1232.77 Z\" fill=\"#000000\" fill-rule=\"evenodd\" fill-opacity=\"1\" /><path clip-path=\"url(#clip440)\" d=\"M 0 0 M59.8578 1006.48 L76.1772 1006.48 L76.1772 1010.42 L54.2328 1010.42 L54.2328 1006.48 Q56.8949 1003.73 61.4782 999.097 Q66.0846 994.444 67.2652 993.101 Q69.5105 990.578 70.3902 988.842 Q71.2929 987.083 71.2929 985.393 Q71.2929 982.638 69.3485 980.902 Q67.4272 979.166 64.3254 979.166 Q62.1263 979.166 59.6726 979.93 Q57.2421 980.694 54.4643 982.245 L54.4643 977.523 Q57.2884 976.388 59.7421 975.81 Q62.1958 975.231 64.2328 975.231 Q69.6031 975.231 72.7976 977.916 Q75.992 980.601 75.992 985.092 Q75.992 987.222 75.1818 989.143 Q74.3948 991.041 72.2883 993.634 Q71.7096 994.305 68.6078 997.522 Q65.5059 1000.72 59.8578 1006.48 Z\" fill=\"#000000\" fill-rule=\"evenodd\" fill-opacity=\"1\" /><path clip-path=\"url(#clip440)\" d=\"M 0 0 M69.0476 765.492 Q72.404 766.209 74.279 768.478 Q76.1772 770.746 76.1772 774.08 Q76.1772 779.195 72.6587 781.996 Q69.1402 784.797 62.6587 784.797 Q60.4828 784.797 58.168 784.357 Q55.8764 783.941 53.4227 783.084 L53.4227 778.57 Q55.3671 779.705 57.6819 780.283 Q59.9967 780.862 62.5198 780.862 Q66.918 780.862 69.2096 779.126 Q71.5244 777.39 71.5244 774.08 Q71.5244 771.024 69.3717 769.311 Q67.242 767.575 63.4226 767.575 L59.3949 767.575 L59.3949 763.733 L63.6078 763.733 Q67.0569 763.733 68.8855 762.367 Q70.7142 760.978 70.7142 758.385 Q70.7142 755.723 68.8161 754.311 Q66.9411 752.876 63.4226 752.876 Q61.5013 752.876 59.3023 753.293 Q57.1032 753.709 54.4643 754.589 L54.4643 750.422 Q57.1264 749.682 59.4412 749.311 Q61.7791 748.941 63.8393 748.941 Q69.1633 748.941 72.2652 751.372 Q75.367 753.779 75.367 757.899 Q75.367 760.77 73.7235 762.76 Q72.08 764.728 69.0476 765.492 Z\" fill=\"#000000\" fill-rule=\"evenodd\" fill-opacity=\"1\" /><path clip-path=\"url(#clip440)\" d=\"M 0 0 M66.5939 527.35 L54.7884 545.799 L66.5939 545.799 L66.5939 527.35 M65.367 523.276 L71.2466 523.276 L71.2466 545.799 L76.1772 545.799 L76.1772 549.688 L71.2466 549.688 L71.2466 557.836 L66.5939 557.836 L66.5939 549.688 L50.9921 549.688 L50.9921 545.174 L65.367 523.276 Z\" fill=\"#000000\" fill-rule=\"evenodd\" fill-opacity=\"1\" /><path clip-path=\"url(#clip440)\" d=\"M 0 0 M55.2745 296.986 L73.6309 296.986 L73.6309 300.921 L59.5569 300.921 L59.5569 309.394 Q60.5754 309.046 61.5939 308.884 Q62.6124 308.699 63.6309 308.699 Q69.418 308.699 72.7976 311.87 Q76.1772 315.042 76.1772 320.458 Q76.1772 326.037 72.705 329.139 Q69.2328 332.217 62.9134 332.217 Q60.7374 332.217 58.4689 331.847 Q56.2236 331.477 53.8162 330.736 L53.8162 326.037 Q55.8995 327.171 58.1217 327.727 Q60.3439 328.282 62.8208 328.282 Q66.8254 328.282 69.1633 326.176 Q71.5013 324.069 71.5013 320.458 Q71.5013 316.847 69.1633 314.741 Q66.8254 312.634 62.8208 312.634 Q60.9458 312.634 59.0708 313.051 Q57.2189 313.468 55.2745 314.347 L55.2745 296.986 Z\" fill=\"#000000\" fill-rule=\"evenodd\" fill-opacity=\"1\" /><path clip-path=\"url(#clip440)\" d=\"M 0 0 M64.6495 86.1129 Q61.5013 86.1129 59.6495 88.2656 Q57.8208 90.4184 57.8208 94.1684 Q57.8208 97.8952 59.6495 100.071 Q61.5013 102.224 64.6495 102.224 Q67.7976 102.224 69.6263 100.071 Q71.4781 97.8952 71.4781 94.1684 Q71.4781 90.4184 69.6263 88.2656 Q67.7976 86.1129 64.6495 86.1129 M73.9318 71.4602 L73.9318 75.7194 Q72.1726 74.8861 70.367 74.4463 Q68.5846 74.0064 66.8254 74.0064 Q62.1958 74.0064 59.7421 77.1314 Q57.3115 80.2564 56.9643 86.5758 Q58.33 84.5619 60.3902 83.4971 Q62.4504 82.4092 64.9272 82.4092 Q70.1355 82.4092 73.1448 85.5805 Q76.1772 88.7286 76.1772 94.1684 Q76.1772 99.4924 73.029 102.71 Q69.8809 105.928 64.6495 105.928 Q58.6541 105.928 55.4828 101.344 Q52.3116 96.7378 52.3116 88.011 Q52.3116 79.8166 56.2004 74.9555 Q60.0893 70.0713 66.6402 70.0713 Q68.3994 70.0713 70.1818 70.4185 Q71.9874 70.7657 73.9318 71.4602 Z\" fill=\"#000000\" fill-rule=\"evenodd\" fill-opacity=\"1\" /><polyline clip-path=\"url(#clip442)\" style=\"stroke:#009af9; stroke-width:4; stroke-opacity:1; fill:none\" points=\"\n",
       "  175.59,1445.72 561.479,1174.17 1039.52,902.62 1436.93,631.072 1949.53,359.524 2289.34,87.9763 \n",
       "  \"/>\n",
       "<path clip-path=\"url(#clip440)\" d=\"\n",
       "M1978.1 216.178 L2278.07 216.178 L2278.07 95.2176 L1978.1 95.2176  Z\n",
       "  \" fill=\"#ffffff\" fill-rule=\"evenodd\" fill-opacity=\"1\"/>\n",
       "<polyline clip-path=\"url(#clip440)\" style=\"stroke:#000000; stroke-width:4; stroke-opacity:1; fill:none\" points=\"\n",
       "  1978.1,216.178 2278.07,216.178 2278.07,95.2176 1978.1,95.2176 1978.1,216.178 \n",
       "  \"/>\n",
       "<polyline clip-path=\"url(#clip440)\" style=\"stroke:#009af9; stroke-width:4; stroke-opacity:1; fill:none\" points=\"\n",
       "  2002.99,155.698 2152.37,155.698 \n",
       "  \"/>\n",
       "<path clip-path=\"url(#clip440)\" d=\"M 0 0 M2191.1 175.385 Q2189.3 180.015 2187.59 181.427 Q2185.87 182.839 2183 182.839 L2179.6 182.839 L2179.6 179.274 L2182.1 179.274 Q2183.86 179.274 2184.83 178.44 Q2185.8 177.607 2186.98 174.505 L2187.75 172.561 L2177.26 147.052 L2181.77 147.052 L2189.88 167.329 L2197.98 147.052 L2202.49 147.052 L2191.1 175.385 Z\" fill=\"#000000\" fill-rule=\"evenodd\" fill-opacity=\"1\" /><path clip-path=\"url(#clip440)\" d=\"M 0 0 M2208.37 169.042 L2216.01 169.042 L2216.01 142.677 L2207.7 144.343 L2207.7 140.084 L2215.96 138.418 L2220.64 138.418 L2220.64 169.042 L2228.28 169.042 L2228.28 172.978 L2208.37 172.978 L2208.37 169.042 Z\" fill=\"#000000\" fill-rule=\"evenodd\" fill-opacity=\"1\" /></svg>\n"
      ]
     },
     "execution_count": 2,
     "metadata": {},
     "output_type": "execute_result"
    }
   ],
   "source": [
    "vpeltier = [0.0, 0.67, 1.5, 2.19, 3.08, 3.67]\n",
    "ipeltier = [0.0, 1.2, 2.4, 3.6, 4.8, 6]\n",
    "\n",
    "using Plots\n",
    "\n",
    "plot(vpeltier, ipeltier)"
   ]
  },
  {
   "cell_type": "code",
   "execution_count": 26,
   "id": "b55cca1c-0538-488e-8a50-668224a7e75a",
   "metadata": {},
   "outputs": [
    {
     "name": "stderr",
     "output_type": "stream",
     "text": [
      "┌ Info: Precompiling GLM [38e38edf-8417-5370-95a0-9cbb8c7f171a]\n",
      "└ @ Base loading.jl:1278\n"
     ]
    },
    {
     "ename": "LoadError",
     "evalue": "\u001b[91mUndefVarError: vpeltier not defined\u001b[39m",
     "output_type": "error",
     "traceback": [
      "\u001b[91mUndefVarError: vpeltier not defined\u001b[39m",
      "",
      "Stacktrace:",
      " [1] top-level scope at In[26]:3",
      " [2] include_string(::Function, ::Module, ::String, ::String) at .\\loading.jl:1091"
     ]
    }
   ],
   "source": [
    "using DataFrames, GLM\n",
    "\n",
    "data = DataFrame(X=vpeltier, Y=ipeltier)\n",
    "\n",
    "ols = lm(@formula(Y ~ X), data)"
   ]
  },
  {
   "cell_type": "code",
   "execution_count": 81,
   "id": "95b0b51c-b3b2-4d79-a1ea-e393a69ab39c",
   "metadata": {},
   "outputs": [
    {
     "data": {
      "text/plain": [
       "0.030694668820678513"
      ]
     },
     "execution_count": 81,
     "metadata": {},
     "output_type": "execute_result"
    }
   ],
   "source": [
    "\n",
    "tONmin = 221e-9\n",
    "VoSimpified(D) = D*(Vin + Vf) - Vf\n",
    "VoFull(D) = (D*(Vin + Vf) - Vf) / ((RdsON*D/rTec) + 1)\n",
    "\n",
    "minVo = find_zero(f -> VoFull(f), 0.5) "
   ]
  },
  {
   "cell_type": "code",
   "execution_count": 82,
   "id": "57bb83f0-fcd7-435c-9f7f-f0667368cc7e",
   "metadata": {},
   "outputs": [
    {
     "data": {
      "text/plain": [
       "minVoFull (generic function with 1 method)"
      ]
     },
     "execution_count": 82,
     "metadata": {},
     "output_type": "execute_result"
    }
   ],
   "source": [
    "minVoFull(f) = VoFull(f*tONmin)"
   ]
  },
  {
   "cell_type": "code",
   "execution_count": 83,
   "id": "4dd1438d-0180-4a36-966a-e3c8050964b7",
   "metadata": {},
   "outputs": [
    {
     "data": {
      "image/svg+xml": [
       "<?xml version=\"1.0\" encoding=\"utf-8\"?>\n",
       "<svg xmlns=\"http://www.w3.org/2000/svg\" xmlns:xlink=\"http://www.w3.org/1999/xlink\" width=\"600\" height=\"400\" viewBox=\"0 0 2400 1600\">\n",
       "<defs>\n",
       "  <clipPath id=\"clip710\">\n",
       "    <rect x=\"0\" y=\"0\" width=\"2400\" height=\"1600\"/>\n",
       "  </clipPath>\n",
       "</defs>\n",
       "<path clip-path=\"url(#clip710)\" d=\"\n",
       "M0 1600 L2400 1600 L2400 0 L0 0  Z\n",
       "  \" fill=\"#ffffff\" fill-rule=\"evenodd\" fill-opacity=\"1\"/>\n",
       "<defs>\n",
       "  <clipPath id=\"clip711\">\n",
       "    <rect x=\"480\" y=\"0\" width=\"1681\" height=\"1600\"/>\n",
       "  </clipPath>\n",
       "</defs>\n",
       "<path clip-path=\"url(#clip710)\" d=\"\n",
       "M174.862 1474.16 L2352.76 1474.16 L2352.76 47.2441 L174.862 47.2441  Z\n",
       "  \" fill=\"#ffffff\" fill-rule=\"evenodd\" fill-opacity=\"1\"/>\n",
       "<defs>\n",
       "  <clipPath id=\"clip712\">\n",
       "    <rect x=\"174\" y=\"47\" width=\"2179\" height=\"1428\"/>\n",
       "  </clipPath>\n",
       "</defs>\n",
       "<polyline clip-path=\"url(#clip712)\" style=\"stroke:#000000; stroke-width:2; stroke-opacity:0.1; fill:none\" points=\"\n",
       "  236.501,1474.16 236.501,47.2441 \n",
       "  \"/>\n",
       "<polyline clip-path=\"url(#clip712)\" style=\"stroke:#000000; stroke-width:2; stroke-opacity:0.1; fill:none\" points=\"\n",
       "  750.155,1474.16 750.155,47.2441 \n",
       "  \"/>\n",
       "<polyline clip-path=\"url(#clip712)\" style=\"stroke:#000000; stroke-width:2; stroke-opacity:0.1; fill:none\" points=\"\n",
       "  1263.81,1474.16 1263.81,47.2441 \n",
       "  \"/>\n",
       "<polyline clip-path=\"url(#clip712)\" style=\"stroke:#000000; stroke-width:2; stroke-opacity:0.1; fill:none\" points=\"\n",
       "  1777.46,1474.16 1777.46,47.2441 \n",
       "  \"/>\n",
       "<polyline clip-path=\"url(#clip712)\" style=\"stroke:#000000; stroke-width:2; stroke-opacity:0.1; fill:none\" points=\"\n",
       "  2291.12,1474.16 2291.12,47.2441 \n",
       "  \"/>\n",
       "<polyline clip-path=\"url(#clip710)\" style=\"stroke:#000000; stroke-width:4; stroke-opacity:1; fill:none\" points=\"\n",
       "  174.862,1474.16 2352.76,1474.16 \n",
       "  \"/>\n",
       "<polyline clip-path=\"url(#clip710)\" style=\"stroke:#000000; stroke-width:4; stroke-opacity:1; fill:none\" points=\"\n",
       "  236.501,1474.16 236.501,1457.04 \n",
       "  \"/>\n",
       "<polyline clip-path=\"url(#clip710)\" style=\"stroke:#000000; stroke-width:4; stroke-opacity:1; fill:none\" points=\"\n",
       "  750.155,1474.16 750.155,1457.04 \n",
       "  \"/>\n",
       "<polyline clip-path=\"url(#clip710)\" style=\"stroke:#000000; stroke-width:4; stroke-opacity:1; fill:none\" points=\"\n",
       "  1263.81,1474.16 1263.81,1457.04 \n",
       "  \"/>\n",
       "<polyline clip-path=\"url(#clip710)\" style=\"stroke:#000000; stroke-width:4; stroke-opacity:1; fill:none\" points=\"\n",
       "  1777.46,1474.16 1777.46,1457.04 \n",
       "  \"/>\n",
       "<polyline clip-path=\"url(#clip710)\" style=\"stroke:#000000; stroke-width:4; stroke-opacity:1; fill:none\" points=\"\n",
       "  2291.12,1474.16 2291.12,1457.04 \n",
       "  \"/>\n",
       "<path clip-path=\"url(#clip710)\" d=\"M 0 0 M174.778 1552.44 L182.417 1552.44 L182.417 1526.07 L174.106 1527.74 L174.106 1523.48 L182.37 1521.81 L187.046 1521.81 L187.046 1552.44 L194.685 1552.44 L194.685 1556.37 L174.778 1556.37 L174.778 1552.44 Z\" fill=\"#000000\" fill-rule=\"evenodd\" fill-opacity=\"1\" /><path clip-path=\"url(#clip710)\" d=\"M 0 0 M227.926 1530.91 L217.347 1541.53 L227.926 1552.11 L225.171 1554.91 L214.546 1544.29 L203.921 1554.91 L201.19 1552.11 L211.745 1541.53 L201.19 1530.91 L203.921 1528.11 L214.546 1538.73 L225.171 1528.11 L227.926 1530.91 Z\" fill=\"#000000\" fill-rule=\"evenodd\" fill-opacity=\"1\" /><path clip-path=\"url(#clip710)\" d=\"M 0 0 M233.805 1552.44 L241.444 1552.44 L241.444 1526.07 L233.134 1527.74 L233.134 1523.48 L241.398 1521.81 L246.074 1521.81 L246.074 1552.44 L253.713 1552.44 L253.713 1556.37 L233.805 1556.37 L233.805 1552.44 Z\" fill=\"#000000\" fill-rule=\"evenodd\" fill-opacity=\"1\" /><path clip-path=\"url(#clip710)\" d=\"M 0 0 M268.782 1524.89 Q265.171 1524.89 263.342 1528.46 Q261.537 1532 261.537 1539.13 Q261.537 1546.23 263.342 1549.8 Q265.171 1553.34 268.782 1553.34 Q272.416 1553.34 274.222 1549.8 Q276.05 1546.23 276.05 1539.13 Q276.05 1532 274.222 1528.46 Q272.416 1524.89 268.782 1524.89 M268.782 1521.19 Q274.592 1521.19 277.648 1525.79 Q280.726 1530.38 280.726 1539.13 Q280.726 1547.85 277.648 1552.46 Q274.592 1557.04 268.782 1557.04 Q262.972 1557.04 259.893 1552.46 Q256.838 1547.85 256.838 1539.13 Q256.838 1530.38 259.893 1525.79 Q262.972 1521.19 268.782 1521.19 Z\" fill=\"#000000\" fill-rule=\"evenodd\" fill-opacity=\"1\" /><path clip-path=\"url(#clip710)\" d=\"M 0 0 M281.911 1500.88 L296.826 1500.88 L296.826 1504.08 L285.391 1504.08 L285.391 1510.96 Q286.218 1510.68 287.046 1510.55 Q287.873 1510.4 288.701 1510.4 Q293.403 1510.4 296.149 1512.97 Q298.895 1515.55 298.895 1519.95 Q298.895 1524.49 296.073 1527.01 Q293.252 1529.51 288.118 1529.51 Q286.35 1529.51 284.507 1529.21 Q282.682 1528.91 280.726 1528.3 L280.726 1524.49 Q282.419 1525.41 284.225 1525.86 Q286.03 1526.31 288.043 1526.31 Q291.296 1526.31 293.196 1524.6 Q295.095 1522.89 295.095 1519.95 Q295.095 1517.02 293.196 1515.31 Q291.296 1513.6 288.043 1513.6 Q286.519 1513.6 284.996 1513.93 Q283.491 1514.27 281.911 1514.99 L281.911 1500.88 Z\" fill=\"#000000\" fill-rule=\"evenodd\" fill-opacity=\"1\" /><path clip-path=\"url(#clip710)\" d=\"M 0 0 M692.703 1552.44 L709.022 1552.44 L709.022 1556.37 L687.078 1556.37 L687.078 1552.44 Q689.74 1549.68 694.323 1545.05 Q698.93 1540.4 700.11 1539.06 Q702.356 1536.53 703.235 1534.8 Q704.138 1533.04 704.138 1531.35 Q704.138 1528.59 702.193 1526.86 Q700.272 1525.12 697.17 1525.12 Q694.971 1525.12 692.518 1525.89 Q690.087 1526.65 687.309 1528.2 L687.309 1523.48 Q690.133 1522.34 692.587 1521.77 Q695.041 1521.19 697.078 1521.19 Q702.448 1521.19 705.643 1523.87 Q708.837 1526.56 708.837 1531.05 Q708.837 1533.18 708.027 1535.1 Q707.24 1537 705.133 1539.59 Q704.555 1540.26 701.453 1543.48 Q698.351 1546.67 692.703 1552.44 Z\" fill=\"#000000\" fill-rule=\"evenodd\" fill-opacity=\"1\" /><path clip-path=\"url(#clip710)\" d=\"M 0 0 M742.263 1530.91 L731.684 1541.53 L742.263 1552.11 L739.508 1554.91 L728.883 1544.29 L718.258 1554.91 L715.527 1552.11 L726.082 1541.53 L715.527 1530.91 L718.258 1528.11 L728.883 1538.73 L739.508 1528.11 L742.263 1530.91 Z\" fill=\"#000000\" fill-rule=\"evenodd\" fill-opacity=\"1\" /><path clip-path=\"url(#clip710)\" d=\"M 0 0 M748.142 1552.44 L755.781 1552.44 L755.781 1526.07 L747.471 1527.74 L747.471 1523.48 L755.735 1521.81 L760.411 1521.81 L760.411 1552.44 L768.05 1552.44 L768.05 1556.37 L748.142 1556.37 L748.142 1552.44 Z\" fill=\"#000000\" fill-rule=\"evenodd\" fill-opacity=\"1\" /><path clip-path=\"url(#clip710)\" d=\"M 0 0 M783.119 1524.89 Q779.508 1524.89 777.679 1528.46 Q775.874 1532 775.874 1539.13 Q775.874 1546.23 777.679 1549.8 Q779.508 1553.34 783.119 1553.34 Q786.753 1553.34 788.559 1549.8 Q790.387 1546.23 790.387 1539.13 Q790.387 1532 788.559 1528.46 Q786.753 1524.89 783.119 1524.89 M783.119 1521.19 Q788.929 1521.19 791.985 1525.79 Q795.063 1530.38 795.063 1539.13 Q795.063 1547.85 791.985 1552.46 Q788.929 1557.04 783.119 1557.04 Q777.309 1557.04 774.23 1552.46 Q771.175 1547.85 771.175 1539.13 Q771.175 1530.38 774.23 1525.79 Q777.309 1521.19 783.119 1521.19 Z\" fill=\"#000000\" fill-rule=\"evenodd\" fill-opacity=\"1\" /><path clip-path=\"url(#clip710)\" d=\"M 0 0 M796.248 1500.88 L811.163 1500.88 L811.163 1504.08 L799.728 1504.08 L799.728 1510.96 Q800.555 1510.68 801.383 1510.55 Q802.21 1510.4 803.038 1510.4 Q807.74 1510.4 810.486 1512.97 Q813.232 1515.55 813.232 1519.95 Q813.232 1524.49 810.411 1527.01 Q807.589 1529.51 802.455 1529.51 Q800.687 1529.51 798.844 1529.21 Q797.019 1528.91 795.063 1528.3 L795.063 1524.49 Q796.756 1525.41 798.562 1525.86 Q800.367 1526.31 802.38 1526.31 Q805.633 1526.31 807.533 1524.6 Q809.432 1522.89 809.432 1519.95 Q809.432 1517.02 807.533 1515.31 Q805.633 1513.6 802.38 1513.6 Q800.856 1513.6 799.333 1513.93 Q797.828 1514.27 796.248 1514.99 L796.248 1500.88 Z\" fill=\"#000000\" fill-rule=\"evenodd\" fill-opacity=\"1\" /><path clip-path=\"url(#clip710)\" d=\"M 0 0 M1215.95 1537.74 Q1219.31 1538.46 1221.18 1540.72 Q1223.08 1542.99 1223.08 1546.33 Q1223.08 1551.44 1219.56 1554.24 Q1216.04 1557.04 1209.56 1557.04 Q1207.39 1557.04 1205.07 1556.6 Q1202.78 1556.19 1200.33 1555.33 L1200.33 1550.82 Q1202.27 1551.95 1204.59 1552.53 Q1206.9 1553.11 1209.42 1553.11 Q1213.82 1553.11 1216.11 1551.37 Q1218.43 1549.64 1218.43 1546.33 Q1218.43 1543.27 1216.28 1541.56 Q1214.15 1539.82 1210.33 1539.82 L1206.3 1539.82 L1206.3 1535.98 L1210.51 1535.98 Q1213.96 1535.98 1215.79 1534.61 Q1217.62 1533.22 1217.62 1530.63 Q1217.62 1527.97 1215.72 1526.56 Q1213.85 1525.12 1210.33 1525.12 Q1208.41 1525.12 1206.21 1525.54 Q1204.01 1525.96 1201.37 1526.83 L1201.37 1522.67 Q1204.03 1521.93 1206.35 1521.56 Q1208.68 1521.19 1210.74 1521.19 Q1216.07 1521.19 1219.17 1523.62 Q1222.27 1526.02 1222.27 1530.15 Q1222.27 1533.02 1220.63 1535.01 Q1218.98 1536.97 1215.95 1537.74 Z\" fill=\"#000000\" fill-rule=\"evenodd\" fill-opacity=\"1\" /><path clip-path=\"url(#clip710)\" d=\"M 0 0 M1256.32 1530.91 L1245.74 1541.53 L1256.32 1552.11 L1253.57 1554.91 L1242.94 1544.29 L1232.32 1554.91 L1229.59 1552.11 L1240.14 1541.53 L1229.59 1530.91 L1232.32 1528.11 L1242.94 1538.73 L1253.57 1528.11 L1256.32 1530.91 Z\" fill=\"#000000\" fill-rule=\"evenodd\" fill-opacity=\"1\" /><path clip-path=\"url(#clip710)\" d=\"M 0 0 M1262.2 1552.44 L1269.84 1552.44 L1269.84 1526.07 L1261.53 1527.74 L1261.53 1523.48 L1269.79 1521.81 L1274.47 1521.81 L1274.47 1552.44 L1282.11 1552.44 L1282.11 1556.37 L1262.2 1556.37 L1262.2 1552.44 Z\" fill=\"#000000\" fill-rule=\"evenodd\" fill-opacity=\"1\" /><path clip-path=\"url(#clip710)\" d=\"M 0 0 M1297.18 1524.89 Q1293.57 1524.89 1291.74 1528.46 Q1289.93 1532 1289.93 1539.13 Q1289.93 1546.23 1291.74 1549.8 Q1293.57 1553.34 1297.18 1553.34 Q1300.81 1553.34 1302.62 1549.8 Q1304.45 1546.23 1304.45 1539.13 Q1304.45 1532 1302.62 1528.46 Q1300.81 1524.89 1297.18 1524.89 M1297.18 1521.19 Q1302.99 1521.19 1306.04 1525.79 Q1309.12 1530.38 1309.12 1539.13 Q1309.12 1547.85 1306.04 1552.46 Q1302.99 1557.04 1297.18 1557.04 Q1291.37 1557.04 1288.29 1552.46 Q1285.23 1547.85 1285.23 1539.13 Q1285.23 1530.38 1288.29 1525.79 Q1291.37 1521.19 1297.18 1521.19 Z\" fill=\"#000000\" fill-rule=\"evenodd\" fill-opacity=\"1\" /><path clip-path=\"url(#clip710)\" d=\"M 0 0 M1310.31 1500.88 L1325.22 1500.88 L1325.22 1504.08 L1313.79 1504.08 L1313.79 1510.96 Q1314.61 1510.68 1315.44 1510.55 Q1316.27 1510.4 1317.1 1510.4 Q1321.8 1510.4 1324.55 1512.97 Q1327.29 1515.55 1327.29 1519.95 Q1327.29 1524.49 1324.47 1527.01 Q1321.65 1529.51 1316.51 1529.51 Q1314.75 1529.51 1312.9 1529.21 Q1311.08 1528.91 1309.12 1528.3 L1309.12 1524.49 Q1310.82 1525.41 1312.62 1525.86 Q1314.43 1526.31 1316.44 1526.31 Q1319.69 1526.31 1321.59 1524.6 Q1323.49 1522.89 1323.49 1519.95 Q1323.49 1517.02 1321.59 1515.31 Q1319.69 1513.6 1316.44 1513.6 Q1314.92 1513.6 1313.39 1513.93 Q1311.89 1514.27 1310.31 1514.99 L1310.31 1500.88 Z\" fill=\"#000000\" fill-rule=\"evenodd\" fill-opacity=\"1\" /><path clip-path=\"url(#clip710)\" d=\"M 0 0 M1728.37 1525.89 L1716.56 1544.33 L1728.37 1544.33 L1728.37 1525.89 M1727.14 1521.81 L1733.02 1521.81 L1733.02 1544.33 L1737.95 1544.33 L1737.95 1548.22 L1733.02 1548.22 L1733.02 1556.37 L1728.37 1556.37 L1728.37 1548.22 L1712.77 1548.22 L1712.77 1543.71 L1727.14 1521.81 Z\" fill=\"#000000\" fill-rule=\"evenodd\" fill-opacity=\"1\" /><path clip-path=\"url(#clip710)\" d=\"M 0 0 M1771.19 1530.91 L1760.61 1541.53 L1771.19 1552.11 L1768.44 1554.91 L1757.81 1544.29 L1747.19 1554.91 L1744.46 1552.11 L1755.01 1541.53 L1744.46 1530.91 L1747.19 1528.11 L1757.81 1538.73 L1768.44 1528.11 L1771.19 1530.91 Z\" fill=\"#000000\" fill-rule=\"evenodd\" fill-opacity=\"1\" /><path clip-path=\"url(#clip710)\" d=\"M 0 0 M1777.07 1552.44 L1784.71 1552.44 L1784.71 1526.07 L1776.4 1527.74 L1776.4 1523.48 L1784.66 1521.81 L1789.34 1521.81 L1789.34 1552.44 L1796.98 1552.44 L1796.98 1556.37 L1777.07 1556.37 L1777.07 1552.44 Z\" fill=\"#000000\" fill-rule=\"evenodd\" fill-opacity=\"1\" /><path clip-path=\"url(#clip710)\" d=\"M 0 0 M1812.05 1524.89 Q1808.44 1524.89 1806.61 1528.46 Q1804.8 1532 1804.8 1539.13 Q1804.8 1546.23 1806.61 1549.8 Q1808.44 1553.34 1812.05 1553.34 Q1815.68 1553.34 1817.49 1549.8 Q1819.32 1546.23 1819.32 1539.13 Q1819.32 1532 1817.49 1528.46 Q1815.68 1524.89 1812.05 1524.89 M1812.05 1521.19 Q1817.86 1521.19 1820.91 1525.79 Q1823.99 1530.38 1823.99 1539.13 Q1823.99 1547.85 1820.91 1552.46 Q1817.86 1557.04 1812.05 1557.04 Q1806.24 1557.04 1803.16 1552.46 Q1800.1 1547.85 1800.1 1539.13 Q1800.1 1530.38 1803.16 1525.79 Q1806.24 1521.19 1812.05 1521.19 Z\" fill=\"#000000\" fill-rule=\"evenodd\" fill-opacity=\"1\" /><path clip-path=\"url(#clip710)\" d=\"M 0 0 M1825.18 1500.88 L1840.09 1500.88 L1840.09 1504.08 L1828.66 1504.08 L1828.66 1510.96 Q1829.48 1510.68 1830.31 1510.55 Q1831.14 1510.4 1831.97 1510.4 Q1836.67 1510.4 1839.41 1512.97 Q1842.16 1515.55 1842.16 1519.95 Q1842.16 1524.49 1839.34 1527.01 Q1836.52 1529.51 1831.38 1529.51 Q1829.62 1529.51 1827.77 1529.21 Q1825.95 1528.91 1823.99 1528.3 L1823.99 1524.49 Q1825.68 1525.41 1827.49 1525.86 Q1829.3 1526.31 1831.31 1526.31 Q1834.56 1526.31 1836.46 1524.6 Q1838.36 1522.89 1838.36 1519.95 Q1838.36 1517.02 1836.46 1515.31 Q1834.56 1513.6 1831.31 1513.6 Q1829.78 1513.6 1828.26 1513.93 Q1826.76 1514.27 1825.18 1514.99 L1825.18 1500.88 Z\" fill=\"#000000\" fill-rule=\"evenodd\" fill-opacity=\"1\" /><path clip-path=\"url(#clip710)\" d=\"M 0 0 M2229.29 1521.81 L2247.65 1521.81 L2247.65 1525.75 L2233.57 1525.75 L2233.57 1534.22 Q2234.59 1533.87 2235.61 1533.71 Q2236.63 1533.52 2237.65 1533.52 Q2243.43 1533.52 2246.81 1536.7 Q2250.19 1539.87 2250.19 1545.28 Q2250.19 1550.86 2246.72 1553.96 Q2243.25 1557.04 2236.93 1557.04 Q2234.75 1557.04 2232.48 1556.67 Q2230.24 1556.3 2227.83 1555.56 L2227.83 1550.86 Q2229.92 1552 2232.14 1552.55 Q2234.36 1553.11 2236.84 1553.11 Q2240.84 1553.11 2243.18 1551 Q2245.52 1548.9 2245.52 1545.28 Q2245.52 1541.67 2243.18 1539.57 Q2240.84 1537.46 2236.84 1537.46 Q2234.96 1537.46 2233.09 1537.88 Q2231.23 1538.29 2229.29 1539.17 L2229.29 1521.81 Z\" fill=\"#000000\" fill-rule=\"evenodd\" fill-opacity=\"1\" /><path clip-path=\"url(#clip710)\" d=\"M 0 0 M2283.43 1530.91 L2272.86 1541.53 L2283.43 1552.11 L2280.68 1554.91 L2270.05 1544.29 L2259.43 1554.91 L2256.7 1552.11 L2267.25 1541.53 L2256.7 1530.91 L2259.43 1528.11 L2270.05 1538.73 L2280.68 1528.11 L2283.43 1530.91 Z\" fill=\"#000000\" fill-rule=\"evenodd\" fill-opacity=\"1\" /><path clip-path=\"url(#clip710)\" d=\"M 0 0 M2289.31 1552.44 L2296.95 1552.44 L2296.95 1526.07 L2288.64 1527.74 L2288.64 1523.48 L2296.91 1521.81 L2301.58 1521.81 L2301.58 1552.44 L2309.22 1552.44 L2309.22 1556.37 L2289.31 1556.37 L2289.31 1552.44 Z\" fill=\"#000000\" fill-rule=\"evenodd\" fill-opacity=\"1\" /><path clip-path=\"url(#clip710)\" d=\"M 0 0 M2324.29 1524.89 Q2320.68 1524.89 2318.85 1528.46 Q2317.04 1532 2317.04 1539.13 Q2317.04 1546.23 2318.85 1549.8 Q2320.68 1553.34 2324.29 1553.34 Q2327.92 1553.34 2329.73 1549.8 Q2331.56 1546.23 2331.56 1539.13 Q2331.56 1532 2329.73 1528.46 Q2327.92 1524.89 2324.29 1524.89 M2324.29 1521.19 Q2330.1 1521.19 2333.16 1525.79 Q2336.23 1530.38 2336.23 1539.13 Q2336.23 1547.85 2333.16 1552.46 Q2330.1 1557.04 2324.29 1557.04 Q2318.48 1557.04 2315.4 1552.46 Q2312.35 1547.85 2312.35 1539.13 Q2312.35 1530.38 2315.4 1525.79 Q2318.48 1521.19 2324.29 1521.19 Z\" fill=\"#000000\" fill-rule=\"evenodd\" fill-opacity=\"1\" /><path clip-path=\"url(#clip710)\" d=\"M 0 0 M2337.42 1500.88 L2352.33 1500.88 L2352.33 1504.08 L2340.9 1504.08 L2340.9 1510.96 Q2341.73 1510.68 2342.55 1510.55 Q2343.38 1510.4 2344.21 1510.4 Q2348.91 1510.4 2351.66 1512.97 Q2354.4 1515.55 2354.4 1519.95 Q2354.4 1524.49 2351.58 1527.01 Q2348.76 1529.51 2343.63 1529.51 Q2341.86 1529.51 2340.01 1529.21 Q2338.19 1528.91 2336.23 1528.3 L2336.23 1524.49 Q2337.93 1525.41 2339.73 1525.86 Q2341.54 1526.31 2343.55 1526.31 Q2346.8 1526.31 2348.7 1524.6 Q2350.6 1522.89 2350.6 1519.95 Q2350.6 1517.02 2348.7 1515.31 Q2346.8 1513.6 2343.55 1513.6 Q2342.03 1513.6 2340.5 1513.93 Q2339 1514.27 2337.42 1514.99 L2337.42 1500.88 Z\" fill=\"#000000\" fill-rule=\"evenodd\" fill-opacity=\"1\" /><polyline clip-path=\"url(#clip712)\" style=\"stroke:#000000; stroke-width:2; stroke-opacity:0.1; fill:none\" points=\"\n",
       "  174.862,1302.55 2352.76,1302.55 \n",
       "  \"/>\n",
       "<polyline clip-path=\"url(#clip712)\" style=\"stroke:#000000; stroke-width:2; stroke-opacity:0.1; fill:none\" points=\"\n",
       "  174.862,993.988 2352.76,993.988 \n",
       "  \"/>\n",
       "<polyline clip-path=\"url(#clip712)\" style=\"stroke:#000000; stroke-width:2; stroke-opacity:0.1; fill:none\" points=\"\n",
       "  174.862,685.426 2352.76,685.426 \n",
       "  \"/>\n",
       "<polyline clip-path=\"url(#clip712)\" style=\"stroke:#000000; stroke-width:2; stroke-opacity:0.1; fill:none\" points=\"\n",
       "  174.862,376.863 2352.76,376.863 \n",
       "  \"/>\n",
       "<polyline clip-path=\"url(#clip712)\" style=\"stroke:#000000; stroke-width:2; stroke-opacity:0.1; fill:none\" points=\"\n",
       "  174.862,68.3009 2352.76,68.3009 \n",
       "  \"/>\n",
       "<polyline clip-path=\"url(#clip710)\" style=\"stroke:#000000; stroke-width:4; stroke-opacity:1; fill:none\" points=\"\n",
       "  174.862,1474.16 174.862,47.2441 \n",
       "  \"/>\n",
       "<polyline clip-path=\"url(#clip710)\" style=\"stroke:#000000; stroke-width:4; stroke-opacity:1; fill:none\" points=\"\n",
       "  174.862,1302.55 200.997,1302.55 \n",
       "  \"/>\n",
       "<polyline clip-path=\"url(#clip710)\" style=\"stroke:#000000; stroke-width:4; stroke-opacity:1; fill:none\" points=\"\n",
       "  174.862,993.988 200.997,993.988 \n",
       "  \"/>\n",
       "<polyline clip-path=\"url(#clip710)\" style=\"stroke:#000000; stroke-width:4; stroke-opacity:1; fill:none\" points=\"\n",
       "  174.862,685.426 200.997,685.426 \n",
       "  \"/>\n",
       "<polyline clip-path=\"url(#clip710)\" style=\"stroke:#000000; stroke-width:4; stroke-opacity:1; fill:none\" points=\"\n",
       "  174.862,376.863 200.997,376.863 \n",
       "  \"/>\n",
       "<polyline clip-path=\"url(#clip710)\" style=\"stroke:#000000; stroke-width:4; stroke-opacity:1; fill:none\" points=\"\n",
       "  174.862,68.3009 200.997,68.3009 \n",
       "  \"/>\n",
       "<path clip-path=\"url(#clip710)\" d=\"M 0 0 M62.9365 1288.35 Q59.3254 1288.35 57.4967 1291.91 Q55.6912 1295.46 55.6912 1302.59 Q55.6912 1309.69 57.4967 1313.26 Q59.3254 1316.8 62.9365 1316.8 Q66.5707 1316.8 68.3763 1313.26 Q70.205 1309.69 70.205 1302.59 Q70.205 1295.46 68.3763 1291.91 Q66.5707 1288.35 62.9365 1288.35 M62.9365 1284.65 Q68.7467 1284.65 71.8022 1289.25 Q74.8809 1293.84 74.8809 1302.59 Q74.8809 1311.31 71.8022 1315.92 Q68.7467 1320.5 62.9365 1320.5 Q57.1264 1320.5 54.0477 1315.92 Q50.9921 1311.31 50.9921 1302.59 Q50.9921 1293.84 54.0477 1289.25 Q57.1264 1284.65 62.9365 1284.65 Z\" fill=\"#000000\" fill-rule=\"evenodd\" fill-opacity=\"1\" /><path clip-path=\"url(#clip710)\" d=\"M 0 0 M79.9503 1313.95 L84.8345 1313.95 L84.8345 1319.83 L79.9503 1319.83 L79.9503 1313.95 Z\" fill=\"#000000\" fill-rule=\"evenodd\" fill-opacity=\"1\" /><path clip-path=\"url(#clip710)\" d=\"M 0 0 M99.9039 1288.35 Q96.2928 1288.35 94.4641 1291.91 Q92.6586 1295.46 92.6586 1302.59 Q92.6586 1309.69 94.4641 1313.26 Q96.2928 1316.8 99.9039 1316.8 Q103.538 1316.8 105.344 1313.26 Q107.172 1309.69 107.172 1302.59 Q107.172 1295.46 105.344 1291.91 Q103.538 1288.35 99.9039 1288.35 M99.9039 1284.65 Q105.714 1284.65 108.77 1289.25 Q111.848 1293.84 111.848 1302.59 Q111.848 1311.31 108.77 1315.92 Q105.714 1320.5 99.9039 1320.5 Q94.0937 1320.5 91.0151 1315.92 Q87.9595 1311.31 87.9595 1302.59 Q87.9595 1293.84 91.0151 1289.25 Q94.0937 1284.65 99.9039 1284.65 Z\" fill=\"#000000\" fill-rule=\"evenodd\" fill-opacity=\"1\" /><path clip-path=\"url(#clip710)\" d=\"M 0 0 M126.918 1288.35 Q123.307 1288.35 121.478 1291.91 Q119.672 1295.46 119.672 1302.59 Q119.672 1309.69 121.478 1313.26 Q123.307 1316.8 126.918 1316.8 Q130.552 1316.8 132.357 1313.26 Q134.186 1309.69 134.186 1302.59 Q134.186 1295.46 132.357 1291.91 Q130.552 1288.35 126.918 1288.35 M126.918 1284.65 Q132.728 1284.65 135.783 1289.25 Q138.862 1293.84 138.862 1302.59 Q138.862 1311.31 135.783 1315.92 Q132.728 1320.5 126.918 1320.5 Q121.107 1320.5 118.029 1315.92 Q114.973 1311.31 114.973 1302.59 Q114.973 1293.84 118.029 1289.25 Q121.107 1284.65 126.918 1284.65 Z\" fill=\"#000000\" fill-rule=\"evenodd\" fill-opacity=\"1\" /><path clip-path=\"url(#clip710)\" d=\"M 0 0 M65.5291 979.787 Q61.918 979.787 60.0893 983.352 Q58.2838 986.893 58.2838 994.023 Q58.2838 1001.13 60.0893 1004.69 Q61.918 1008.24 65.5291 1008.24 Q69.1633 1008.24 70.9689 1004.69 Q72.7976 1001.13 72.7976 994.023 Q72.7976 986.893 70.9689 983.352 Q69.1633 979.787 65.5291 979.787 M65.5291 976.083 Q71.3392 976.083 74.3948 980.69 Q77.4735 985.273 77.4735 994.023 Q77.4735 1002.75 74.3948 1007.36 Q71.3392 1011.94 65.5291 1011.94 Q59.7189 1011.94 56.6402 1007.36 Q53.5847 1002.75 53.5847 994.023 Q53.5847 985.273 56.6402 980.69 Q59.7189 976.083 65.5291 976.083 Z\" fill=\"#000000\" fill-rule=\"evenodd\" fill-opacity=\"1\" /><path clip-path=\"url(#clip710)\" d=\"M 0 0 M82.5429 1005.39 L87.4271 1005.39 L87.4271 1011.27 L82.5429 1011.27 L82.5429 1005.39 Z\" fill=\"#000000\" fill-rule=\"evenodd\" fill-opacity=\"1\" /><path clip-path=\"url(#clip710)\" d=\"M 0 0 M96.5243 1007.33 L112.844 1007.33 L112.844 1011.27 L90.8993 1011.27 L90.8993 1007.33 Q93.5613 1004.58 98.1447 999.949 Q102.751 995.296 103.932 993.954 Q106.177 991.43 107.057 989.694 Q107.959 987.935 107.959 986.245 Q107.959 983.491 106.015 981.755 Q104.094 980.018 100.992 980.018 Q98.7928 980.018 96.3391 980.782 Q93.9086 981.546 91.1308 983.097 L91.1308 978.375 Q93.9549 977.241 96.4085 976.662 Q98.8622 976.083 100.899 976.083 Q106.27 976.083 109.464 978.768 Q112.658 981.454 112.658 985.944 Q112.658 988.074 111.848 989.995 Q111.061 991.893 108.955 994.486 Q108.376 995.157 105.274 998.375 Q102.172 1001.57 96.5243 1007.33 Z\" fill=\"#000000\" fill-rule=\"evenodd\" fill-opacity=\"1\" /><path clip-path=\"url(#clip710)\" d=\"M 0 0 M117.959 976.708 L136.316 976.708 L136.316 980.643 L122.242 980.643 L122.242 989.116 Q123.26 988.768 124.279 988.606 Q125.297 988.421 126.316 988.421 Q132.103 988.421 135.482 991.592 Q138.862 994.764 138.862 1000.18 Q138.862 1005.76 135.39 1008.86 Q131.918 1011.94 125.598 1011.94 Q123.422 1011.94 121.154 1011.57 Q118.908 1011.2 116.501 1010.46 L116.501 1005.76 Q118.584 1006.89 120.807 1007.45 Q123.029 1008 125.506 1008 Q129.51 1008 131.848 1005.9 Q134.186 1003.79 134.186 1000.18 Q134.186 996.569 131.848 994.463 Q129.51 992.356 125.506 992.356 Q123.631 992.356 121.756 992.773 Q119.904 993.19 117.959 994.069 L117.959 976.708 Z\" fill=\"#000000\" fill-rule=\"evenodd\" fill-opacity=\"1\" /><path clip-path=\"url(#clip710)\" d=\"M 0 0 M63.9319 671.225 Q60.3208 671.225 58.4921 674.789 Q56.6865 678.331 56.6865 685.461 Q56.6865 692.567 58.4921 696.132 Q60.3208 699.673 63.9319 699.673 Q67.5661 699.673 69.3717 696.132 Q71.2004 692.567 71.2004 685.461 Q71.2004 678.331 69.3717 674.789 Q67.5661 671.225 63.9319 671.225 M63.9319 667.521 Q69.742 667.521 72.7976 672.127 Q75.8763 676.711 75.8763 685.461 Q75.8763 694.187 72.7976 698.794 Q69.742 703.377 63.9319 703.377 Q58.1217 703.377 55.043 698.794 Q51.9875 694.187 51.9875 685.461 Q51.9875 676.711 55.043 672.127 Q58.1217 667.521 63.9319 667.521 Z\" fill=\"#000000\" fill-rule=\"evenodd\" fill-opacity=\"1\" /><path clip-path=\"url(#clip710)\" d=\"M 0 0 M80.9457 696.826 L85.8299 696.826 L85.8299 702.706 L80.9457 702.706 L80.9457 696.826 Z\" fill=\"#000000\" fill-rule=\"evenodd\" fill-opacity=\"1\" /><path clip-path=\"url(#clip710)\" d=\"M 0 0 M90.9456 668.146 L109.302 668.146 L109.302 672.081 L95.228 672.081 L95.228 680.553 Q96.2465 680.206 97.265 680.044 Q98.2835 679.859 99.3021 679.859 Q105.089 679.859 108.469 683.03 Q111.848 686.201 111.848 691.618 Q111.848 697.197 108.376 700.298 Q104.904 703.377 98.5845 703.377 Q96.4085 703.377 94.14 703.007 Q91.8947 702.636 89.4873 701.896 L89.4873 697.197 Q91.5706 698.331 93.7928 698.886 Q96.015 699.442 98.4919 699.442 Q102.496 699.442 104.834 697.335 Q107.172 695.229 107.172 691.618 Q107.172 688.007 104.834 685.9 Q102.496 683.794 98.4919 683.794 Q96.6169 683.794 94.7419 684.211 Q92.89 684.627 90.9456 685.507 L90.9456 668.146 Z\" fill=\"#000000\" fill-rule=\"evenodd\" fill-opacity=\"1\" /><path clip-path=\"url(#clip710)\" d=\"M 0 0 M126.918 671.225 Q123.307 671.225 121.478 674.789 Q119.672 678.331 119.672 685.461 Q119.672 692.567 121.478 696.132 Q123.307 699.673 126.918 699.673 Q130.552 699.673 132.357 696.132 Q134.186 692.567 134.186 685.461 Q134.186 678.331 132.357 674.789 Q130.552 671.225 126.918 671.225 M126.918 667.521 Q132.728 667.521 135.783 672.127 Q138.862 676.711 138.862 685.461 Q138.862 694.187 135.783 698.794 Q132.728 703.377 126.918 703.377 Q121.107 703.377 118.029 698.794 Q114.973 694.187 114.973 685.461 Q114.973 676.711 118.029 672.127 Q121.107 667.521 126.918 667.521 Z\" fill=\"#000000\" fill-rule=\"evenodd\" fill-opacity=\"1\" /><path clip-path=\"url(#clip710)\" d=\"M 0 0 M64.8346 362.662 Q61.2236 362.662 59.3949 366.227 Q57.5893 369.768 57.5893 376.898 Q57.5893 384.005 59.3949 387.569 Q61.2236 391.111 64.8346 391.111 Q68.4689 391.111 70.2744 387.569 Q72.1031 384.005 72.1031 376.898 Q72.1031 369.768 70.2744 366.227 Q68.4689 362.662 64.8346 362.662 M64.8346 358.958 Q70.6448 358.958 73.7003 363.565 Q76.779 368.148 76.779 376.898 Q76.779 385.625 73.7003 390.231 Q70.6448 394.815 64.8346 394.815 Q59.0245 394.815 55.9458 390.231 Q52.8903 385.625 52.8903 376.898 Q52.8903 368.148 55.9458 363.565 Q59.0245 358.958 64.8346 358.958 Z\" fill=\"#000000\" fill-rule=\"evenodd\" fill-opacity=\"1\" /><path clip-path=\"url(#clip710)\" d=\"M 0 0 M81.8484 388.264 L86.7327 388.264 L86.7327 394.143 L81.8484 394.143 L81.8484 388.264 Z\" fill=\"#000000\" fill-rule=\"evenodd\" fill-opacity=\"1\" /><path clip-path=\"url(#clip710)\" d=\"M 0 0 M90.6215 359.583 L112.844 359.583 L112.844 361.574 L100.297 394.143 L95.4132 394.143 L107.219 363.519 L90.6215 363.519 L90.6215 359.583 Z\" fill=\"#000000\" fill-rule=\"evenodd\" fill-opacity=\"1\" /><path clip-path=\"url(#clip710)\" d=\"M 0 0 M117.959 359.583 L136.316 359.583 L136.316 363.519 L122.242 363.519 L122.242 371.991 Q123.26 371.643 124.279 371.481 Q125.297 371.296 126.316 371.296 Q132.103 371.296 135.482 374.468 Q138.862 377.639 138.862 383.055 Q138.862 388.634 135.39 391.736 Q131.918 394.815 125.598 394.815 Q123.422 394.815 121.154 394.444 Q118.908 394.074 116.501 393.333 L116.501 388.634 Q118.584 389.768 120.807 390.324 Q123.029 390.879 125.506 390.879 Q129.51 390.879 131.848 388.773 Q134.186 386.667 134.186 383.055 Q134.186 379.444 131.848 377.338 Q129.51 375.231 125.506 375.231 Q123.631 375.231 121.756 375.648 Q119.904 376.065 117.959 376.944 L117.959 359.583 Z\" fill=\"#000000\" fill-rule=\"evenodd\" fill-opacity=\"1\" /><path clip-path=\"url(#clip710)\" d=\"M 0 0 M54.9736 81.6457 L62.6124 81.6457 L62.6124 55.2801 L54.3023 56.9468 L54.3023 52.6876 L62.5661 51.0209 L67.242 51.0209 L67.242 81.6457 L74.8809 81.6457 L74.8809 85.5809 L54.9736 85.5809 L54.9736 81.6457 Z\" fill=\"#000000\" fill-rule=\"evenodd\" fill-opacity=\"1\" /><path clip-path=\"url(#clip710)\" d=\"M 0 0 M79.9503 79.7013 L84.8345 79.7013 L84.8345 85.5809 L79.9503 85.5809 L79.9503 79.7013 Z\" fill=\"#000000\" fill-rule=\"evenodd\" fill-opacity=\"1\" /><path clip-path=\"url(#clip710)\" d=\"M 0 0 M99.9039 54.0996 Q96.2928 54.0996 94.4641 57.6644 Q92.6586 61.206 92.6586 68.3356 Q92.6586 75.4421 94.4641 79.0069 Q96.2928 82.5485 99.9039 82.5485 Q103.538 82.5485 105.344 79.0069 Q107.172 75.4421 107.172 68.3356 Q107.172 61.206 105.344 57.6644 Q103.538 54.0996 99.9039 54.0996 M99.9039 50.3959 Q105.714 50.3959 108.77 55.0024 Q111.848 59.5857 111.848 68.3356 Q111.848 77.0624 108.77 81.6689 Q105.714 86.2522 99.9039 86.2522 Q94.0937 86.2522 91.0151 81.6689 Q87.9595 77.0624 87.9595 68.3356 Q87.9595 59.5857 91.0151 55.0024 Q94.0937 50.3959 99.9039 50.3959 Z\" fill=\"#000000\" fill-rule=\"evenodd\" fill-opacity=\"1\" /><path clip-path=\"url(#clip710)\" d=\"M 0 0 M126.918 54.0996 Q123.307 54.0996 121.478 57.6644 Q119.672 61.206 119.672 68.3356 Q119.672 75.4421 121.478 79.0069 Q123.307 82.5485 126.918 82.5485 Q130.552 82.5485 132.357 79.0069 Q134.186 75.4421 134.186 68.3356 Q134.186 61.206 132.357 57.6644 Q130.552 54.0996 126.918 54.0996 M126.918 50.3959 Q132.728 50.3959 135.783 55.0024 Q138.862 59.5857 138.862 68.3356 Q138.862 77.0624 135.783 81.6689 Q132.728 86.2522 126.918 86.2522 Q121.107 86.2522 118.029 81.6689 Q114.973 77.0624 114.973 68.3356 Q114.973 59.5857 118.029 55.0024 Q121.107 50.3959 126.918 50.3959 Z\" fill=\"#000000\" fill-rule=\"evenodd\" fill-opacity=\"1\" /><polyline clip-path=\"url(#clip712)\" style=\"stroke:#009af9; stroke-width:4; stroke-opacity:1; fill:none\" points=\"\n",
       "  236.501,1433.78 750.155,1096.49 1263.81,759.708 1777.46,423.42 2291.12,87.6286 \n",
       "  \"/>\n",
       "<polyline clip-path=\"url(#clip712)\" style=\"stroke:#e26f46; stroke-width:4; stroke-opacity:1; fill:none\" points=\"\n",
       "  236.501,1264.67 750.155,1264.67 1263.81,1264.67 1777.46,1264.67 2291.12,1264.67 \n",
       "  \"/>\n",
       "<path clip-path=\"url(#clip710)\" d=\"\n",
       "M1987.15 276.248 L2280.16 276.248 L2280.16 94.8081 L1987.15 94.8081  Z\n",
       "  \" fill=\"#ffffff\" fill-rule=\"evenodd\" fill-opacity=\"1\"/>\n",
       "<polyline clip-path=\"url(#clip710)\" style=\"stroke:#000000; stroke-width:4; stroke-opacity:1; fill:none\" points=\"\n",
       "  1987.15,276.248 2280.16,276.248 2280.16,94.8081 1987.15,94.8081 1987.15,276.248 \n",
       "  \"/>\n",
       "<polyline clip-path=\"url(#clip710)\" style=\"stroke:#009af9; stroke-width:4; stroke-opacity:1; fill:none\" points=\"\n",
       "  2011.35,155.288 2156.54,155.288 \n",
       "  \"/>\n",
       "<path clip-path=\"url(#clip710)\" d=\"M 0 0 M2194.59 174.976 Q2192.78 179.605 2191.07 181.017 Q2189.35 182.429 2186.48 182.429 L2183.08 182.429 L2183.08 178.864 L2185.58 178.864 Q2187.34 178.864 2188.31 178.031 Q2189.29 177.198 2190.47 174.096 L2191.23 172.151 L2180.74 146.642 L2185.26 146.642 L2193.36 166.92 L2201.46 146.642 L2205.97 146.642 L2194.59 174.976 Z\" fill=\"#000000\" fill-rule=\"evenodd\" fill-opacity=\"1\" /><path clip-path=\"url(#clip710)\" d=\"M 0 0 M2211.85 168.633 L2219.49 168.633 L2219.49 142.267 L2211.18 143.934 L2211.18 139.675 L2219.45 138.008 L2224.12 138.008 L2224.12 168.633 L2231.76 168.633 L2231.76 172.568 L2211.85 172.568 L2211.85 168.633 Z\" fill=\"#000000\" fill-rule=\"evenodd\" fill-opacity=\"1\" /><polyline clip-path=\"url(#clip710)\" style=\"stroke:#e26f46; stroke-width:4; stroke-opacity:1; fill:none\" points=\"\n",
       "  2011.35,215.768 2156.54,215.768 \n",
       "  \"/>\n",
       "<path clip-path=\"url(#clip710)\" d=\"M 0 0 M2194.59 235.456 Q2192.78 240.085 2191.07 241.497 Q2189.35 242.909 2186.48 242.909 L2183.08 242.909 L2183.08 239.344 L2185.58 239.344 Q2187.34 239.344 2188.31 238.511 Q2189.29 237.678 2190.47 234.576 L2191.23 232.631 L2180.74 207.122 L2185.26 207.122 L2193.36 227.4 L2201.46 207.122 L2205.97 207.122 L2194.59 235.456 Z\" fill=\"#000000\" fill-rule=\"evenodd\" fill-opacity=\"1\" /><path clip-path=\"url(#clip710)\" d=\"M 0 0 M2215.07 229.113 L2231.39 229.113 L2231.39 233.048 L2209.45 233.048 L2209.45 229.113 Q2212.11 226.358 2216.69 221.729 Q2221.3 217.076 2222.48 215.733 Q2224.72 213.21 2225.6 211.474 Q2226.51 209.715 2226.51 208.025 Q2226.51 205.27 2224.56 203.534 Q2222.64 201.798 2219.54 201.798 Q2217.34 201.798 2214.89 202.562 Q2212.46 203.326 2209.68 204.877 L2209.68 200.155 Q2212.5 199.021 2214.96 198.442 Q2217.41 197.863 2219.45 197.863 Q2224.82 197.863 2228.01 200.548 Q2231.21 203.233 2231.21 207.724 Q2231.21 209.854 2230.4 211.775 Q2229.61 213.673 2227.5 216.266 Q2226.92 216.937 2223.82 220.155 Q2220.72 223.349 2215.07 229.113 Z\" fill=\"#000000\" fill-rule=\"evenodd\" fill-opacity=\"1\" /></svg>\n"
      ]
     },
     "execution_count": 83,
     "metadata": {},
     "output_type": "execute_result"
    }
   ],
   "source": [
    "plot(100e3:100e3:500e3, x -> minVoFull(x))\n",
    "plot!(100e3:100e3:500e3, x -> minVo)\n"
   ]
  },
  {
   "cell_type": "code",
   "execution_count": 86,
   "id": "b3f44aeb-dbb9-40eb-9783-9e28e18bb9c7",
   "metadata": {},
   "outputs": [
    {
     "data": {
      "text/plain": [
       "150121.28640460942"
      ]
     },
     "execution_count": 86,
     "metadata": {},
     "output_type": "execute_result"
    }
   ],
   "source": [
    "minFreq = find_zero(f -> fCompFreq(f) - minVo, 200e3) "
   ]
  },
  {
   "cell_type": "code",
   "execution_count": 85,
   "id": "0e76cf7a-7dcf-43d9-a288-bf80426e441f",
   "metadata": {},
   "outputs": [
    {
     "data": {
      "text/plain": [
       "0.060581583198707586"
      ]
     },
     "execution_count": 85,
     "metadata": {},
     "output_type": "execute_result"
    }
   ],
   "source": [
    "minVo / rTec"
   ]
  },
  {
   "cell_type": "code",
   "execution_count": null,
   "id": "07a938c9-fb3f-4e10-aef1-3e76af6ccd6a",
   "metadata": {},
   "outputs": [],
   "source": []
  }
 ],
 "metadata": {
  "kernelspec": {
   "display_name": "Julia 1.5.3",
   "language": "julia",
   "name": "julia-1.5"
  },
  "language_info": {
   "file_extension": ".jl",
   "mimetype": "application/julia",
   "name": "julia",
   "version": "1.5.3"
  }
 },
 "nbformat": 4,
 "nbformat_minor": 5
}
