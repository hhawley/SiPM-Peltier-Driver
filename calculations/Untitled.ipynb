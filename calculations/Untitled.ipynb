{
 "cells": [
  {
   "cell_type": "code",
   "execution_count": 1,
   "id": "8781daea-b17a-4e84-be3f-1d831a6283d4",
   "metadata": {},
   "outputs": [],
   "source": [
    "using Measurements\n",
    "using Plots\n",
    "using Roots"
   ]
  },
  {
   "cell_type": "code",
   "execution_count": 2,
   "id": "430e46d6-43b5-4ae5-8de5-e18528840f68",
   "metadata": {},
   "outputs": [
    {
     "data": {
      "text/plain": [
       "get_error_per (generic function with 1 method)"
      ]
     },
     "execution_count": 2,
     "metadata": {},
     "output_type": "execute_result"
    }
   ],
   "source": [
    "function get_error_per(meas)\n",
    "   return 100*Measurements.uncertainty(meas) / Measurements.value(meas)\n",
    "end"
   ]
  },
  {
   "cell_type": "code",
   "execution_count": 11,
   "id": "7db291db-9954-44c4-bd71-bb966cc4c890",
   "metadata": {},
   "outputs": [
    {
     "data": {
      "text/plain": [
       "6.2"
      ]
     },
     "execution_count": 11,
     "metadata": {},
     "output_type": "execute_result"
    }
   ],
   "source": [
    "Rshunt = 0.001*(1 ± 1e-2);\n",
    "maxCurrentError = √((870e-6)^2 + (0.074)^2)\n",
    "maxCurrent = 6.2"
   ]
  },
  {
   "cell_type": "code",
   "execution_count": 21,
   "id": "4dfd740d-f6c5-4500-b186-1d637d9a1243",
   "metadata": {},
   "outputs": [
    {
     "name": "stdout",
     "output_type": "stream",
     "text": [
      "(VoltageShunt, VoltageAmplifier, VoltageDividerReductionDesired) = (0.0062 ± 6.2e-5, 1.24 ± 0.012, 0.8258 ± 0.0083)\n"
     ]
    },
    {
     "data": {
      "text/plain": [
       "(0.0062 ± 6.2e-5, 1.24 ± 0.012, 0.8258 ± 0.0083)"
      ]
     },
     "execution_count": 21,
     "metadata": {},
     "output_type": "execute_result"
    }
   ],
   "source": [
    "VoltageShunt = Rshunt*maxCurrent\n",
    "AmplifierGain = 200*(1 ± 0.03e-2)\n",
    "VoltageAmplifier = AmplifierGain*VoltageShunt\n",
    "VoltageDividerReductionDesired = 1.024 / VoltageAmplifier\n",
    "\n",
    "@show VoltageShunt, VoltageAmplifier, VoltageDividerReductionDesired"
   ]
  },
  {
   "cell_type": "code",
   "execution_count": 38,
   "id": "f1959b6a-723d-4ba3-86a7-c02ed6d04bfa",
   "metadata": {},
   "outputs": [
    {
     "data": {
      "text/plain": [
       "9555.897311697752"
      ]
     },
     "execution_count": 38,
     "metadata": {},
     "output_type": "execute_result"
    }
   ],
   "source": [
    "R2 = 45.3e3\n",
    "rr = find_zero(R1 -> R2/(R1+R2) - 0.8258,  10e3)"
   ]
  },
  {
   "cell_type": "code",
   "execution_count": 42,
   "id": "9553644b-bb11-43b7-acc0-3e5e0b3ba18e",
   "metadata": {},
   "outputs": [
    {
     "data": {
      "text/latex": [
       "$0.8262 \\pm 0.002$"
      ],
      "text/plain": [
       "0.8262 ± 0.002"
      ]
     },
     "execution_count": 42,
     "metadata": {},
     "output_type": "execute_result"
    }
   ],
   "source": [
    "R1 = 9.53e3*(1 ± 1e-2)\n",
    "R2 = 45.3e3*(1 ± 1e-2)\n",
    "\n",
    "ActualVoltageDivider = R2/(R1+R2)"
   ]
  },
  {
   "cell_type": "code",
   "execution_count": 43,
   "id": "15c786f8-a49d-4b55-b62c-ed8e4a0f853f",
   "metadata": {},
   "outputs": [
    {
     "name": "stdout",
     "output_type": "stream",
     "text": [
      "(al, dal, LSB, lostLSB) = (1.024 ± 0.011, 1.0302037677256806, 0.00025, 2.0 ± 42.0)\n"
     ]
    },
    {
     "data": {
      "text/plain": [
       "(1.024 ± 0.011, 1.0302037677256806, 0.00025, 2.0 ± 42.0)"
      ]
     },
     "execution_count": 43,
     "metadata": {},
     "output_type": "execute_result"
    }
   ],
   "source": [
    "al = VoltageAmplifier*ActualVoltageDivider\n",
    "dal = get_error_per(al)\n",
    "\n",
    "LSB =  1.024 / 2^12\n",
    "\n",
    "lostLSB = abs(al - 1.024) / LSB\n",
    "\n",
    "@show al, dal, LSB,lostLSB"
   ]
  },
  {
   "cell_type": "code",
   "execution_count": 41,
   "id": "d577663f-5816-4682-b833-7b39e614935d",
   "metadata": {},
   "outputs": [
    {
     "data": {
      "text/plain": [
       "0.06962890625"
      ]
     },
     "execution_count": 41,
     "metadata": {},
     "output_type": "execute_result"
    }
   ],
   "source": [
    "(4+42)*6.2/2^12"
   ]
  },
  {
   "cell_type": "code",
   "execution_count": 34,
   "id": "625205b4-19db-4a24-b868-4ebd5393d645",
   "metadata": {},
   "outputs": [
    {
     "data": {
      "text/plain": [
       "0.05859375"
      ]
     },
     "execution_count": 34,
     "metadata": {},
     "output_type": "execute_result"
    }
   ],
   "source": [
    "abs(-40-20) / 2^10"
   ]
  },
  {
   "cell_type": "code",
   "execution_count": 77,
   "id": "37ae54f7-55ae-40e4-803d-d639eca32aed",
   "metadata": {},
   "outputs": [
    {
     "data": {
      "text/plain": [
       "1024.0"
      ]
     },
     "execution_count": 77,
     "metadata": {},
     "output_type": "execute_result"
    }
   ],
   "source": [
    "2^15*0.03125"
   ]
  },
  {
   "cell_type": "code",
   "execution_count": 79,
   "id": "f5d5c90c-b850-4534-8696-88459622b35a",
   "metadata": {},
   "outputs": [
    {
     "data": {
      "text/plain": [
       "0.390625"
      ]
     },
     "execution_count": 79,
     "metadata": {},
     "output_type": "execute_result"
    }
   ],
   "source": [
    "100/2^8"
   ]
  },
  {
   "cell_type": "code",
   "execution_count": 32,
   "id": "3e539537-c988-491b-8bcf-0912f215876b",
   "metadata": {},
   "outputs": [
    {
     "data": {
      "text/latex": [
       "$0.1 \\pm 7.1e-6$"
      ],
      "text/plain": [
       "0.1 ± 7.1e-6"
      ]
     },
     "execution_count": 32,
     "metadata": {},
     "output_type": "execute_result"
    }
   ],
   "source": [
    "R = 100*(1 ± 0.005e-2)\n",
    "V = 10*(1 ± 0.005e-2)\n",
    "\n",
    "I = V / R"
   ]
  },
  {
   "cell_type": "code",
   "execution_count": 6,
   "id": "32668bdf-5f0d-470e-91e5-ca49f1d6b026",
   "metadata": {},
   "outputs": [
    {
     "data": {
      "text/plain": [
       "0.0005"
      ]
     },
     "execution_count": 6,
     "metadata": {},
     "output_type": "execute_result"
    }
   ],
   "source": [
    "100/200000"
   ]
  },
  {
   "cell_type": "code",
   "execution_count": 62,
   "id": "8cf52b6b-5dec-49f8-a230-52749956f4da",
   "metadata": {},
   "outputs": [
    {
     "data": {
      "text/plain": [
       "23-element Array{Array{Float64,1},1}:\n",
       " [2.0, 25.0]\n",
       " [3.0, 12.5]\n",
       " [4.0, 6.25]\n",
       " [5.0, 3.125]\n",
       " [6.0, 1.5625]\n",
       " [7.0, 0.78125]\n",
       " [8.0, 0.390625]\n",
       " [9.0, 0.1953125]\n",
       " [10.0, 0.09765625]\n",
       " [11.0, 0.048828125]\n",
       " [12.0, 0.0244140625]\n",
       " [13.0, 0.01220703125]\n",
       " [14.0, 0.006103515625]\n",
       " [15.0, 0.0030517578125]\n",
       " [16.0, 0.00152587890625]\n",
       " [17.0, 0.000762939453125]\n",
       " [18.0, 0.0003814697265625]\n",
       " [19.0, 0.00019073486328125]\n",
       " [20.0, 9.5367431640625e-5]\n",
       " [21.0, 4.76837158203125e-5]\n",
       " [22.0, 2.384185791015625e-5]\n",
       " [23.0, 1.1920928955078125e-5]\n",
       " [24.0, 5.9604644775390625e-6]"
      ]
     },
     "execution_count": 62,
     "metadata": {},
     "output_type": "execute_result"
    }
   ],
   "source": [
    "[[n, 100/2^n] for n in 2:24]"
   ]
  },
  {
   "cell_type": "code",
   "execution_count": 61,
   "id": "9f4cb4dc-2ff5-465c-9003-8d28542c4981",
   "metadata": {},
   "outputs": [
    {
     "data": {
      "text/plain": [
       "6-element Array{Array{Any,1},1}:\n",
       " [\"2 and half digits\", 0.5]\n",
       " [\"3 and half digits\", 0.05]\n",
       " [\"4 and half digits\", 0.005]\n",
       " [\"5 and half digits\", 0.0005]\n",
       " [\"6 and half digits\", 5.0e-5]\n",
       " [\"7 and half digits\", 5.0e-6]"
      ]
     },
     "execution_count": 61,
     "metadata": {},
     "output_type": "execute_result"
    }
   ],
   "source": [
    "[[\"$d and half digits\", 100/(2*10^d)] for d in 2:7]"
   ]
  },
  {
   "cell_type": "code",
   "execution_count": 52,
   "id": "8f3f8e83-81ab-4726-9dba-58c44d31aa70",
   "metadata": {},
   "outputs": [
    {
     "data": {
      "text/plain": [
       "0.0020599999999999998"
      ]
     },
     "execution_count": 52,
     "metadata": {},
     "output_type": "execute_result"
    }
   ],
   "source": [
    "Iz = 1e-3;\n",
    "Rladder = 71e3;\n",
    "\n",
    "R = (3.3 - 1.24) / Iz\n",
    "(3.3 - 1.24) / 1e3"
   ]
  },
  {
   "cell_type": "code",
   "execution_count": null,
   "id": "1017e8e0-0193-4447-8c02-f63e9ea58700",
   "metadata": {},
   "outputs": [],
   "source": []
  },
  {
   "cell_type": "code",
   "execution_count": null,
   "id": "9c8f5813-aba1-4aff-978d-1e935e291d7b",
   "metadata": {},
   "outputs": [],
   "source": []
  }
 ],
 "metadata": {
  "kernelspec": {
   "display_name": "Julia 1.5.3",
   "language": "julia",
   "name": "julia-1.5"
  },
  "language_info": {
   "file_extension": ".jl",
   "mimetype": "application/julia",
   "name": "julia",
   "version": "1.5.3"
  }
 },
 "nbformat": 4,
 "nbformat_minor": 5
}
